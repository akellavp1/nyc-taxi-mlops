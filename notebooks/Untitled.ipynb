{
 "cells": [
  {
   "cell_type": "code",
   "execution_count": 1,
   "id": "72665c34-167e-4873-aa7f-27289d021614",
   "metadata": {},
   "outputs": [],
   "source": [
    "from pathlib import Path"
   ]
  },
  {
   "cell_type": "code",
   "execution_count": 16,
   "id": "5ecccd6e-811e-42e4-8d4e-651bf113f6b7",
   "metadata": {},
   "outputs": [
    {
     "data": {
      "text/plain": [
       "WindowsPath('E:/nyc-taxi-mlops/notebooks')"
      ]
     },
     "execution_count": 16,
     "metadata": {},
     "output_type": "execute_result"
    }
   ],
   "source": [
    "current_dir = Path.cwd()\n",
    "current_dir"
   ]
  },
  {
   "cell_type": "code",
   "execution_count": 17,
   "id": "b745055b-4b05-4026-8504-b069c4a15f7b",
   "metadata": {},
   "outputs": [
    {
     "data": {
      "text/plain": [
       "WindowsPath('E:/nyc-taxi-mlops')"
      ]
     },
     "execution_count": 17,
     "metadata": {},
     "output_type": "execute_result"
    }
   ],
   "source": [
    "new_path = current_dir.parent\n",
    "new_path"
   ]
  },
  {
   "cell_type": "code",
   "execution_count": 18,
   "id": "dc6f563e-03f0-417d-8dd7-fb4ea3c54cf4",
   "metadata": {},
   "outputs": [
    {
     "data": {
      "text/plain": [
       "WindowsPath('E:/')"
      ]
     },
     "execution_count": 18,
     "metadata": {},
     "output_type": "execute_result"
    }
   ],
   "source": [
    "new_path_1 = new_path.parent\n",
    "new_path_1"
   ]
  },
  {
   "cell_type": "code",
   "execution_count": 22,
   "id": "e9a27792-907a-45a5-8278-44d8ff68aee1",
   "metadata": {},
   "outputs": [
    {
     "data": {
      "text/plain": [
       "WindowsPath('E:/nyc-taxi-mlops/notebooks')"
      ]
     },
     "execution_count": 22,
     "metadata": {},
     "output_type": "execute_result"
    }
   ],
   "source": [
    "\n",
    "notebook_path = new_path_1 / 'nyc-taxi-mlops' / 'notebooks'\n",
    "notebook_path"
   ]
  },
  {
   "cell_type": "code",
   "execution_count": 23,
   "id": "45c10e86-48fb-43b0-8fae-99a108682ba3",
   "metadata": {},
   "outputs": [
    {
     "data": {
      "text/plain": [
       "WindowsPath('E:/nyc-taxi-mlops/notebooks')"
      ]
     },
     "execution_count": 23,
     "metadata": {},
     "output_type": "execute_result"
    }
   ],
   "source": [
    "Path.cwd()"
   ]
  },
  {
   "cell_type": "code",
   "execution_count": 24,
   "id": "c2060222-1457-4f9c-916c-b9be1b53b05f",
   "metadata": {},
   "outputs": [],
   "source": [
    "Path.mkdir('test1')"
   ]
  },
  {
   "cell_type": "code",
   "execution_count": 25,
   "id": "feddb54f-8222-4af2-bf39-25f4d35ee36a",
   "metadata": {},
   "outputs": [],
   "source": [
    "Path.rmdir('test1')"
   ]
  },
  {
   "cell_type": "code",
   "execution_count": 26,
   "id": "4f5959c9-577d-4afe-a1b7-9f2eac18b325",
   "metadata": {},
   "outputs": [
    {
     "data": {
      "text/plain": [
       "WindowsPath('C:/Users/akellavp')"
      ]
     },
     "execution_count": 26,
     "metadata": {},
     "output_type": "execute_result"
    }
   ],
   "source": [
    "Path.home()"
   ]
  },
  {
   "cell_type": "code",
   "execution_count": 30,
   "id": "b1207030-f478-495f-814e-4a15d3bca4a2",
   "metadata": {},
   "outputs": [
    {
     "data": {
      "text/plain": [
       "WindowsPath('C:/users')"
      ]
     },
     "execution_count": 30,
     "metadata": {},
     "output_type": "execute_result"
    }
   ],
   "source": [
    "Path('C:/users')"
   ]
  },
  {
   "cell_type": "code",
   "execution_count": 13,
   "id": "66184bc8-311e-42da-b3eb-68b849e929a0",
   "metadata": {},
   "outputs": [],
   "source": [
    "import joblib\n",
    "import sys\n",
    "import pandas as pd\n",
    "import lightgbm as lgb\n",
    "from yaml import safe_load\n",
    "from xgboost import XGBRegressor\n",
    "from sklearn.ensemble import RandomForestRegressor\n",
    "from pathlib import Path\n",
    "def main():\n",
    "    # # current file path\n",
    "    # current_path = Path(__file__)\n",
    "    # # root directory path\n",
    "    # root_path = current_path.parent.parent.parent\n",
    "    # # read input file path\n",
    "    # training_data_path = root_path / sys.argv[1]\n",
    "    # # load the data \n",
    "    # train_data = load_dataframe(training_data_path)\n",
    "    # # split the data into X and y\n",
    "    # X_train, y_train = make_X_y(dataframe=train_data,target_column=TARGET)\n",
    "    # # read the parameters from params.yaml\n",
    "    # with open('params.yaml') as f:\n",
    "    #      params = safe_load(f)\n",
    "    \n",
    "    # Setting models\n",
    "\n",
    "    models = ['xbg', 'rfreg', 'lgb']\n",
    "\n",
    "    # Looping for different models\n",
    "    for model in models:\n",
    "        if model == 'xgb':\n",
    "            regressor = XGBRegressor()\n",
    "            file_name = 'xgbreg.joblib'\n",
    "            print(model, regressor, file_name)\n",
    "        elif model == 'rfreg':\n",
    "            file_name = 'rfreg.joblib'\n",
    "            # model_params = params['train_model']['random_forest_regressor']\n",
    "            # n_estimators = model_params[\"n_estimators\"]\n",
    "            # max_depth = model_params[\"max_depth\"]\n",
    "            # verbose = model_params[\"verbose\"]\n",
    "            # n_jobs = model_params[\"n_jobs\"]\n",
    "\n",
    "            regressor = RandomForestRegressor(\n",
    "                    # n_estimators = n_estimators,\n",
    "                    # max_depth = max_depth,\n",
    "                    # verbose = verbose,\n",
    "                    n_jobs = -1)\n",
    "            print(model, regressor, file_name)\n",
    "            \n",
    "        else:\n",
    "                                  \n",
    "            file_name = 'lightgbmreg.joblib'\n",
    "            # model_params = params['train_model']['lightgbm']\n",
    "            # n_estimators = model_params[\"n_estimators\"]\n",
    "            # num_leaves = model_params[\"num_leaves\"]\n",
    "            # learning_rate = model_params[\"learning_rate\"]\n",
    "            regressor = lgb.LGBMRegressor(\n",
    "                    # n_estimators = n_estimators,\n",
    "                    # num_leaves = num_leaves,\n",
    "                     learning_rate = 0.01)\n",
    "            print(model, regressor, file_name)\n",
    "\n",
    "    \n"
   ]
  },
  {
   "cell_type": "code",
   "execution_count": 14,
   "id": "6fc2349b-3808-49ac-bc16-370713f18585",
   "metadata": {},
   "outputs": [
    {
     "name": "stdout",
     "output_type": "stream",
     "text": [
      "xbg LGBMRegressor(learning_rate=0.01) lightgbmreg.joblib\n",
      "rfreg RandomForestRegressor(n_jobs=-1) rfreg.joblib\n",
      "lgb LGBMRegressor(learning_rate=0.01) lightgbmreg.joblib\n"
     ]
    }
   ],
   "source": [
    "main()\n"
   ]
  },
  {
   "cell_type": "code",
   "execution_count": 19,
   "id": "9a2c27ba-0d88-42eb-8cbf-9e2591caca9d",
   "metadata": {},
   "outputs": [
    {
     "name": "stdout",
     "output_type": "stream",
     "text": [
      "xgb 1\n",
      "rfreg 2\n",
      "lgb 3\n"
     ]
    }
   ],
   "source": [
    "models = ['xgb', 'rfreg', 'lgb']\n",
    "for model in models:\n",
    "    if model == 'xgb':\n",
    "        print(model, 1)\n",
    "    elif model == 'rfreg':\n",
    "        print(model, 2)\n",
    "    else:\n",
    "        print(model, 3)\n",
    "        \n",
    "    \n"
   ]
  },
  {
   "cell_type": "code",
   "execution_count": null,
   "id": "d8caeb4b-d602-464d-b184-2d8e5ade9dc6",
   "metadata": {},
   "outputs": [],
   "source": []
  }
 ],
 "metadata": {
  "kernelspec": {
   "display_name": "Python 3 (ipykernel)",
   "language": "python",
   "name": "python3"
  },
  "language_info": {
   "codemirror_mode": {
    "name": "ipython",
    "version": 3
   },
   "file_extension": ".py",
   "mimetype": "text/x-python",
   "name": "python",
   "nbconvert_exporter": "python",
   "pygments_lexer": "ipython3",
   "version": "3.11.9"
  }
 },
 "nbformat": 4,
 "nbformat_minor": 5
}
